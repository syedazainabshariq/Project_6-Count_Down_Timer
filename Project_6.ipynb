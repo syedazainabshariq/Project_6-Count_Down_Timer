{
  "nbformat": 4,
  "nbformat_minor": 0,
  "metadata": {
    "colab": {
      "provenance": [],
      "authorship_tag": "ABX9TyMEr0p5aXKMh4xhisRiX6U+",
      "include_colab_link": true
    },
    "kernelspec": {
      "name": "python3",
      "display_name": "Python 3"
    },
    "language_info": {
      "name": "python"
    }
  },
  "cells": [
    {
      "cell_type": "markdown",
      "metadata": {
        "id": "view-in-github",
        "colab_type": "text"
      },
      "source": [
        "<a href=\"https://colab.research.google.com/github/syedazainabshariq/Project_6-Count_Down_Timer/blob/main/Project_6.ipynb\" target=\"_parent\"><img src=\"https://colab.research.google.com/assets/colab-badge.svg\" alt=\"Open In Colab\"/></a>"
      ]
    },
    {
      "cell_type": "markdown",
      "source": [
        "# Project 6\n",
        "## CountDown Timer"
      ],
      "metadata": {
        "id": "mJGlBF6Vjpbk"
      }
    },
    {
      "cell_type": "code",
      "execution_count": null,
      "metadata": {
        "colab": {
          "base_uri": "https://localhost:8080/"
        },
        "id": "fOa4F69NjnSo",
        "outputId": "9640aa0b-bace-4ec7-fd1a-0b5b0dfa7458"
      },
      "outputs": [
        {
          "output_type": "stream",
          "name": "stdout",
          "text": [
            "Welcome to the Countdown Timer!\n",
            "Enter the countdown time in seconds: 10\n",
            "Time's up!\n"
          ]
        }
      ],
      "source": [
        "import time\n",
        "\n",
        "def countdown_timer():\n",
        "    print(\"Welcome to the Countdown Timer!\")\n",
        "    try:\n",
        "        total_seconds = int(input(\"Enter the countdown time in seconds: \"))\n",
        "\n",
        "        while total_seconds > 0:\n",
        "            mins, secs = divmod(total_seconds, 60)\n",
        "            timer = f\"{mins:02}:{secs:02}\"\n",
        "            print(timer, end=\"\\r\")\n",
        "            time.sleep(1)\n",
        "            total_seconds -= 1\n",
        "\n",
        "        print(\"Time's up!\")\n",
        "    except ValueError:\n",
        "        print(\"Invalid input. Please enter a valid number.\")\n",
        "\n",
        "countdown_timer()\n"
      ]
    }
  ]
}